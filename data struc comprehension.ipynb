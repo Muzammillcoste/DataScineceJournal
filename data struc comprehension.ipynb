{
 "cells": [
  {
   "cell_type": "markdown",
   "metadata": {},
   "source": [
    "* List comprehension \n",
    "* Advance Data structure\n",
    "**By Muzammil Rizvi** $sqrt(432)$\n",
    "https://www.youtube.com\n"
   ]
  },
  {
   "cell_type": "code",
   "execution_count": null,
   "metadata": {},
   "outputs": [],
   "source": [
    "import collections\n",
    "import matplotlib.pyplot as pp\n",
    "%matplotlib inline"
   ]
  },
  {
   "cell_type": "code",
   "execution_count": null,
   "metadata": {},
   "outputs": [],
   "source": [
    "d={i: i**2 for i in range(1,11)}\n",
    "l=[i**2 for i in range(1,11)]\n",
    "print(d)\n",
    "print(l)\n",
    "sum=sum(i**2 for i in range(1,11))\n",
    "print(sum)"
   ]
  },
  {
   "cell_type": "code",
   "execution_count": null,
   "metadata": {},
   "outputs": [],
   "source": [
    "peopletype=collections.namedtuple('people',['fname','lname'])\n",
    "p1=peopletype('Muzammil','Rizvi')\n",
    "print(p1)\n",
    "print(p1.lname)"
   ]
  },
  {
   "cell_type": "code",
   "execution_count": 44,
   "metadata": {},
   "outputs": [
    {
     "name": "stdout",
     "output_type": "stream",
     "text": [
      "Isl\n",
      "dont know\n",
      "CPU times: total: 0 ns\n",
      "Wall time: 0 ns\n"
     ]
    }
   ],
   "source": [
    "def defult():\n",
    "    return 'dont know'\n",
    "capital=collections.defaultdict(defult)\n",
    "capital['Pak']='Isl'\n",
    "capital['USA']='Dc'\n",
    "print(capital['Pak'])\n",
    "print(capital['france'])\n",
    "capital.update({'Germany':'Berlin'})\n",
    "capital\n",
    "%time\n"
   ]
  }
 ],
 "metadata": {
  "kernelspec": {
   "display_name": "Python 3 (ipykernel)",
   "language": "python",
   "name": "python3"
  },
  "language_info": {
   "codemirror_mode": {
    "name": "ipython",
    "version": 3
   },
   "file_extension": ".py",
   "mimetype": "text/x-python",
   "name": "python",
   "nbconvert_exporter": "python",
   "pygments_lexer": "ipython3",
   "version": "3.10.4 (tags/v3.10.4:9d38120, Mar 23 2022, 23:13:41) [MSC v.1929 64 bit (AMD64)]"
  },
  "vscode": {
   "interpreter": {
    "hash": "6c869eb55f62ed121de4d41050b8da791af46be3f334f9749c0b578bf282648b"
   }
  }
 },
 "nbformat": 4,
 "nbformat_minor": 2
}
