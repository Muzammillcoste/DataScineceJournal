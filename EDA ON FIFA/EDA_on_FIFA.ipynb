{
 "cells": [
  {
   "attachments": {},
   "cell_type": "markdown",
   "metadata": {},
   "source": [
    "# EDA ON FIFA WORLDCUP \n",
    "for more detail about data set [please visit](https://www.kaggle.com/datasets/jahaidulislam/fifa-world-cup-all-goals-1930-2022-dataset) "
   ]
  },
  {
   "cell_type": "code",
   "execution_count": 1,
   "metadata": {},
   "outputs": [],
   "source": [
    "# import all needed libraries\n",
    "import pandas as pd\n",
    "import seaborn as sns\n",
    "import matplotlib.pyplot as plt\n",
    "import charset_normalizer\n",
    "%matplotlib inline "
   ]
  },
  {
   "attachments": {},
   "cell_type": "markdown",
   "metadata": {},
   "source": [
    "* import data set\n",
    "1) as data set not on UTF-8 so first we have to find which encoding use by data set  for this purpose we use charset_normalize library, let see how it works"
   ]
  },
  {
   "cell_type": "code",
   "execution_count": 2,
   "metadata": {},
   "outputs": [
    {
     "name": "stdout",
     "output_type": "stream",
     "text": [
      "{'encoding': 'windows-1250', 'language': 'Dutch', 'confidence': 1.0}\n"
     ]
    }
   ],
   "source": [
    "with open('FIFA World Cup All Goals 1930-2022.csv','rb') as rawdata:\n",
    "    print(charset_normalizer.detect(rawdata.read(1000)))"
   ]
  },
  {
   "attachments": {},
   "cell_type": "markdown",
   "metadata": {},
   "source": [
    "The output is `{'encoding': 'windows-1250', 'language': 'Dutch', 'confidence': 1.0}`, so we found that the data set use 'windows-1250 encoding'"
   ]
  },
  {
   "cell_type": "code",
   "execution_count": 3,
   "metadata": {},
   "outputs": [
    {
     "data": {
      "text/html": [
       "<div>\n",
       "<style scoped>\n",
       "    .dataframe tbody tr th:only-of-type {\n",
       "        vertical-align: middle;\n",
       "    }\n",
       "\n",
       "    .dataframe tbody tr th {\n",
       "        vertical-align: top;\n",
       "    }\n",
       "\n",
       "    .dataframe thead th {\n",
       "        text-align: right;\n",
       "    }\n",
       "</style>\n",
       "<table border=\"1\" class=\"dataframe\">\n",
       "  <thead>\n",
       "    <tr style=\"text-align: right;\">\n",
       "      <th></th>\n",
       "      <th>goal_id</th>\n",
       "      <th>tournament_id</th>\n",
       "      <th>tournament_name</th>\n",
       "      <th>match_id</th>\n",
       "      <th>match_name</th>\n",
       "      <th>match_date</th>\n",
       "      <th>stage_name</th>\n",
       "      <th>group_name</th>\n",
       "      <th>team_id</th>\n",
       "      <th>team_name</th>\n",
       "      <th>...</th>\n",
       "      <th>shirt_number</th>\n",
       "      <th>player_team_id</th>\n",
       "      <th>player_team_name</th>\n",
       "      <th>player_team_code</th>\n",
       "      <th>minute_label</th>\n",
       "      <th>minute_regulation</th>\n",
       "      <th>minute_stoppage</th>\n",
       "      <th>match_period</th>\n",
       "      <th>own_goal</th>\n",
       "      <th>penalty</th>\n",
       "    </tr>\n",
       "    <tr>\n",
       "      <th>key_id</th>\n",
       "      <th></th>\n",
       "      <th></th>\n",
       "      <th></th>\n",
       "      <th></th>\n",
       "      <th></th>\n",
       "      <th></th>\n",
       "      <th></th>\n",
       "      <th></th>\n",
       "      <th></th>\n",
       "      <th></th>\n",
       "      <th></th>\n",
       "      <th></th>\n",
       "      <th></th>\n",
       "      <th></th>\n",
       "      <th></th>\n",
       "      <th></th>\n",
       "      <th></th>\n",
       "      <th></th>\n",
       "      <th></th>\n",
       "      <th></th>\n",
       "      <th></th>\n",
       "    </tr>\n",
       "  </thead>\n",
       "  <tbody>\n",
       "    <tr>\n",
       "      <th>1</th>\n",
       "      <td>G-0001</td>\n",
       "      <td>WC-1930</td>\n",
       "      <td>1930 FIFA World Cup</td>\n",
       "      <td>M-1930-01</td>\n",
       "      <td>France v Mexico</td>\n",
       "      <td>7/13/1930</td>\n",
       "      <td>group stage</td>\n",
       "      <td>Group 1</td>\n",
       "      <td>T-28</td>\n",
       "      <td>France</td>\n",
       "      <td>...</td>\n",
       "      <td>0</td>\n",
       "      <td>T-28</td>\n",
       "      <td>France</td>\n",
       "      <td>FRA</td>\n",
       "      <td>19'</td>\n",
       "      <td>19</td>\n",
       "      <td>0</td>\n",
       "      <td>first half</td>\n",
       "      <td>0</td>\n",
       "      <td>0</td>\n",
       "    </tr>\n",
       "    <tr>\n",
       "      <th>2</th>\n",
       "      <td>G-0002</td>\n",
       "      <td>WC-1930</td>\n",
       "      <td>1930 FIFA World Cup</td>\n",
       "      <td>M-1930-01</td>\n",
       "      <td>France v Mexico</td>\n",
       "      <td>7/13/1930</td>\n",
       "      <td>group stage</td>\n",
       "      <td>Group 1</td>\n",
       "      <td>T-28</td>\n",
       "      <td>France</td>\n",
       "      <td>...</td>\n",
       "      <td>0</td>\n",
       "      <td>T-28</td>\n",
       "      <td>France</td>\n",
       "      <td>FRA</td>\n",
       "      <td>40'</td>\n",
       "      <td>40</td>\n",
       "      <td>0</td>\n",
       "      <td>first half</td>\n",
       "      <td>0</td>\n",
       "      <td>0</td>\n",
       "    </tr>\n",
       "    <tr>\n",
       "      <th>3</th>\n",
       "      <td>G-0003</td>\n",
       "      <td>WC-1930</td>\n",
       "      <td>1930 FIFA World Cup</td>\n",
       "      <td>M-1930-01</td>\n",
       "      <td>France v Mexico</td>\n",
       "      <td>7/13/1930</td>\n",
       "      <td>group stage</td>\n",
       "      <td>Group 1</td>\n",
       "      <td>T-28</td>\n",
       "      <td>France</td>\n",
       "      <td>...</td>\n",
       "      <td>0</td>\n",
       "      <td>T-28</td>\n",
       "      <td>France</td>\n",
       "      <td>FRA</td>\n",
       "      <td>43'</td>\n",
       "      <td>43</td>\n",
       "      <td>0</td>\n",
       "      <td>first half</td>\n",
       "      <td>0</td>\n",
       "      <td>0</td>\n",
       "    </tr>\n",
       "    <tr>\n",
       "      <th>4</th>\n",
       "      <td>G-0004</td>\n",
       "      <td>WC-1930</td>\n",
       "      <td>1930 FIFA World Cup</td>\n",
       "      <td>M-1930-01</td>\n",
       "      <td>France v Mexico</td>\n",
       "      <td>7/13/1930</td>\n",
       "      <td>group stage</td>\n",
       "      <td>Group 1</td>\n",
       "      <td>T-44</td>\n",
       "      <td>Mexico</td>\n",
       "      <td>...</td>\n",
       "      <td>0</td>\n",
       "      <td>T-44</td>\n",
       "      <td>Mexico</td>\n",
       "      <td>MEX</td>\n",
       "      <td>70'</td>\n",
       "      <td>70</td>\n",
       "      <td>0</td>\n",
       "      <td>second half</td>\n",
       "      <td>0</td>\n",
       "      <td>0</td>\n",
       "    </tr>\n",
       "    <tr>\n",
       "      <th>5</th>\n",
       "      <td>G-0005</td>\n",
       "      <td>WC-1930</td>\n",
       "      <td>1930 FIFA World Cup</td>\n",
       "      <td>M-1930-01</td>\n",
       "      <td>France v Mexico</td>\n",
       "      <td>7/13/1930</td>\n",
       "      <td>group stage</td>\n",
       "      <td>Group 1</td>\n",
       "      <td>T-28</td>\n",
       "      <td>France</td>\n",
       "      <td>...</td>\n",
       "      <td>0</td>\n",
       "      <td>T-28</td>\n",
       "      <td>France</td>\n",
       "      <td>FRA</td>\n",
       "      <td>87'</td>\n",
       "      <td>87</td>\n",
       "      <td>0</td>\n",
       "      <td>second half</td>\n",
       "      <td>0</td>\n",
       "      <td>0</td>\n",
       "    </tr>\n",
       "  </tbody>\n",
       "</table>\n",
       "<p>5 rows × 26 columns</p>\n",
       "</div>"
      ],
      "text/plain": [
       "       goal_id tournament_id      tournament_name   match_id       match_name  \\\n",
       "key_id                                                                          \n",
       "1       G-0001       WC-1930  1930 FIFA World Cup  M-1930-01  France v Mexico   \n",
       "2       G-0002       WC-1930  1930 FIFA World Cup  M-1930-01  France v Mexico   \n",
       "3       G-0003       WC-1930  1930 FIFA World Cup  M-1930-01  France v Mexico   \n",
       "4       G-0004       WC-1930  1930 FIFA World Cup  M-1930-01  France v Mexico   \n",
       "5       G-0005       WC-1930  1930 FIFA World Cup  M-1930-01  France v Mexico   \n",
       "\n",
       "       match_date   stage_name group_name team_id team_name  ... shirt_number  \\\n",
       "key_id                                                       ...                \n",
       "1       7/13/1930  group stage    Group 1    T-28    France  ...            0   \n",
       "2       7/13/1930  group stage    Group 1    T-28    France  ...            0   \n",
       "3       7/13/1930  group stage    Group 1    T-28    France  ...            0   \n",
       "4       7/13/1930  group stage    Group 1    T-44    Mexico  ...            0   \n",
       "5       7/13/1930  group stage    Group 1    T-28    France  ...            0   \n",
       "\n",
       "        player_team_id  player_team_name player_team_code minute_label  \\\n",
       "key_id                                                                   \n",
       "1                 T-28            France              FRA          19'   \n",
       "2                 T-28            France              FRA          40'   \n",
       "3                 T-28            France              FRA          43'   \n",
       "4                 T-44            Mexico              MEX          70'   \n",
       "5                 T-28            France              FRA          87'   \n",
       "\n",
       "       minute_regulation  minute_stoppage match_period own_goal penalty  \n",
       "key_id                                                                   \n",
       "1                     19                0   first half        0       0  \n",
       "2                     40                0   first half        0       0  \n",
       "3                     43                0   first half        0       0  \n",
       "4                     70                0  second half        0       0  \n",
       "5                     87                0  second half        0       0  \n",
       "\n",
       "[5 rows x 26 columns]"
      ]
     },
     "execution_count": 3,
     "metadata": {},
     "output_type": "execute_result"
    }
   ],
   "source": [
    "# now we import data\n",
    "df=pd.read_csv('FIFA World Cup All Goals 1930-2022.csv',encoding='windows-1250',index_col='key_id')\n",
    "# let see first five rows of our data to get idea\n",
    "df.head()"
   ]
  },
  {
   "attachments": {},
   "cell_type": "markdown",
   "metadata": {},
   "source": [
    "* Start with data cleaning"
   ]
  },
  {
   "cell_type": "code",
   "execution_count": 129,
   "metadata": {},
   "outputs": [
    {
     "data": {
      "text/plain": [
       "goal_id              0\n",
       "tournament_id        0\n",
       "tournament_name      0\n",
       "match_id             0\n",
       "match_name           0\n",
       "match_date           0\n",
       "stage_name           0\n",
       "group_name           0\n",
       "team_id              0\n",
       "team_name            0\n",
       "team_code            0\n",
       "home_team            0\n",
       "away_team            0\n",
       "player_id            0\n",
       "family_name          0\n",
       "given_name           0\n",
       "shirt_number         0\n",
       "player_team_id       0\n",
       "player_team_name     0\n",
       "player_team_code     0\n",
       "minute_label         0\n",
       "minute_regulation    0\n",
       "minute_stoppage      0\n",
       "match_period         0\n",
       "own_goal             0\n",
       "penalty              0\n",
       "dtype: int64"
      ]
     },
     "execution_count": 129,
     "metadata": {},
     "output_type": "execute_result"
    }
   ],
   "source": [
    "# first find how many null value are there in `df` \"FIFA World Cup All Goals 1930-2022.csv\"\n",
    "df.isnull().sum()\n",
    "# hurry, there is no null value in data set\n",
    "# now we can start our EDA"
   ]
  },
  {
   "attachments": {},
   "cell_type": "markdown",
   "metadata": {},
   "source": [
    "* we going to answers of below questions\n",
    "* The dataset can be used to answer a wide range of research questions, such as:\n",
    "\n",
    "1) Which team has scored the most goals in World Cup history?\n",
    "2) Who is the all-time leading goal scorer in World Cup history?\n",
    "3) What percentage of World Cup goals are scored in the first half versus the second half?\n",
    "4) How has the frequency of certain types of goals (e.g. penalties, headers) changed over time?"
   ]
  },
  {
   "cell_type": "code",
   "execution_count": 130,
   "metadata": {},
   "outputs": [
    {
     "data": {
      "text/plain": [
       "Brazil          237\n",
       "Argentina       152\n",
       "France          136\n",
       "West Germany    131\n",
       "Italy           128\n",
       "               ... \n",
       "Israel            1\n",
       "Angola            1\n",
       "Iraq              1\n",
       "El Salvador       1\n",
       "Qatar             1\n",
       "Name: team_name, Length: 81, dtype: int64"
      ]
     },
     "execution_count": 130,
     "metadata": {},
     "output_type": "execute_result"
    }
   ],
   "source": [
    "# Question 1\n",
    "most_goal_by_team=df.team_name.value_counts()\n",
    "most_goal_by_team.sort_values(ascending=False)"
   ]
  },
  {
   "attachments": {},
   "cell_type": "markdown",
   "metadata": {},
   "source": [
    "Top five goal scorer team\n",
    "\n",
    "1) Brazil          237\n",
    "2) Argentina       152\n",
    "3) France          136\n",
    "5) West Germany    131\n",
    "5) Italy           128"
   ]
  },
  {
   "cell_type": "code",
   "execution_count": 131,
   "metadata": {},
   "outputs": [
    {
     "data": {
      "text/plain": [
       "Text(0.5, 0, 'Countries Name')"
      ]
     },
     "execution_count": 131,
     "metadata": {},
     "output_type": "execute_result"
    },
    {
     "data": {
      "image/png": "[encoded data removed]",
      "text/plain": [
       "<Figure size 1080x432 with 1 Axes>"
      ]
     },
     "metadata": {
      "needs_background": "light"
     },
     "output_type": "display_data"
    }
   ],
   "source": [
    "#let's visualized\n",
    "plt.figure(figsize=(15,6))\n",
    "#plot top fifteen countries\n",
    "top_fifteen=df.team_name.value_counts().nlargest(15)\n",
    "sns.barplot(x=top_fifteen.index,y=top_fifteen.values)\n",
    "plt.title('Name of top fifteen countries scored most goals')\n",
    "plt.ylabel('Goals')\n",
    "plt.xlabel('Countries Name')\n"
   ]
  },
  {
   "cell_type": "code",
   "execution_count": 132,
   "metadata": {},
   "outputs": [
    {
     "data": {
      "text/plain": [
       "Müller       29\n",
       "Ronaldo      23\n",
       "Klose        16\n",
       "Messi        13\n",
       "Fontaine     13\n",
       "Mbappé       12\n",
       "Pelé         12\n",
       "Baggio       11\n",
       "Kocsis       11\n",
       "Klinsmann    11\n",
       "Rodríguez    10\n",
       "Cubillas     10\n",
       "Batistuta    10\n",
       "Rahn         10\n",
       "Andersson    10\n",
       "Name: family_name, dtype: int64"
      ]
     },
     "execution_count": 132,
     "metadata": {},
     "output_type": "execute_result"
    }
   ],
   "source": [
    "# Question 2\n",
    "#top fifteen leading goal scorer\n",
    "leading_goal_scorer=df.family_name.value_counts().nlargest(15)\n",
    "leading_goal_scorer"
   ]
  },
  {
   "cell_type": "code",
   "execution_count": 133,
   "metadata": {},
   "outputs": [
    {
     "data": {
      "text/plain": [
       "Text(0, 0.5, 'NO of Goals')"
      ]
     },
     "execution_count": 133,
     "metadata": {},
     "output_type": "execute_result"
    },
    {
     "data": {
      "image/png": "[encoded data removed]",
      "text/plain": [
       "<Figure size 1080x432 with 1 Axes>"
      ]
     },
     "metadata": {
      "needs_background": "light"
     },
     "output_type": "display_data"
    }
   ],
   "source": [
    "#let's visualized\n",
    "plt.figure(figsize=(15,6))\n",
    "sns.barplot(x=leading_goal_scorer.index,y=leading_goal_scorer.values)\n",
    "plt.title('Top scorer of all time')\n",
    "plt.xlabel('Player\\'s Name')\n",
    "plt.ylabel('NO of Goals')"
   ]
  },
  {
   "cell_type": "code",
   "execution_count": 134,
   "metadata": {},
   "outputs": [
    {
     "name": "stdout",
     "output_type": "stream",
     "text": [
      "40.919117647058826\n"
     ]
    },
    {
     "data": {
      "text/plain": [
       "52.38970588235294"
      ]
     },
     "execution_count": 134,
     "metadata": {},
     "output_type": "execute_result"
    }
   ],
   "source": [
    "#Question 3\n",
    "# our goal is to find percentage first to total,we not consider extra time here\n",
    "first_half=df.loc[df.match_period=='first half','match_period'].count()\n",
    "sec_half=df.loc[df.match_period=='second half','match_period'].count()\n",
    "total_row=df.match_period.count()\n",
    "f_half_goal_per=(first_half/total_row)*100\n",
    "s_half_goal_per=(sec_half/total_row)*100\n",
    "print(f_half_goal_per)\n",
    "s_half_goal_per\n"
   ]
  }
 ],
 "metadata": {
  "kernelspec": {
   "display_name": "Python 3",
   "language": "python",
   "name": "python3"
  },
  "language_info": {
   "codemirror_mode": {
    "name": "ipython",
    "version": 3
   },
   "file_extension": ".py",
   "mimetype": "text/x-python",
   "name": "python",
   "nbconvert_exporter": "python",
   "pygments_lexer": "ipython3",
   "version": "3.10.4 (tags/v3.10.4:9d38120, Mar 23 2022, 23:13:41) [MSC v.1929 64 bit (AMD64)]"
  },
  "orig_nbformat": 4,
  "vscode": {
   "interpreter": {
    "hash": "6c869eb55f62ed121de4d41050b8da791af46be3f334f9749c0b578bf282648b"
   }
  }
 },
 "nbformat": 4,
 "nbformat_minor": 2
}
