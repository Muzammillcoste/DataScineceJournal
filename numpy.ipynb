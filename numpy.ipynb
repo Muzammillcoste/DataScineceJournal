{
 "cells": [
  {
   "attachments": {},
   "cell_type": "markdown",
   "metadata": {},
   "source": [
    "# NUMPY\n",
    "* **Image processing**  \n",
    "* **Basic NumPy**"
   ]
  },
  {
   "cell_type": "code",
   "execution_count": null,
   "metadata": {},
   "outputs": [],
   "source": [
    "import numpy as np\n",
    "import matplotlib.pyplot as pp\n",
    "import math\n",
    "%matplotlib inline"
   ]
  },
  {
   "cell_type": "code",
   "execution_count": null,
   "metadata": {},
   "outputs": [],
   "source": [
    "line=open('monalisa.txt','r')\n",
    "line.readline()"
   ]
  },
  {
   "cell_type": "code",
   "execution_count": null,
   "metadata": {},
   "outputs": [],
   "source": [
    "monalisa=np.loadtxt('monalisa.txt')\n",
    "print(monalisa.ndim)\n",
    "print(monalisa.dtype)\n",
    "print(monalisa.size)\n",
    "monalisa.shape\n"
   ]
  },
  {
   "cell_type": "code",
   "execution_count": null,
   "metadata": {},
   "outputs": [],
   "source": [
    "monalisa"
   ]
  },
  {
   "cell_type": "code",
   "execution_count": null,
   "metadata": {},
   "outputs": [],
   "source": [
    "pp.imshow(monalisa) #imshow create image of nD array"
   ]
  },
  {
   "cell_type": "code",
   "execution_count": null,
   "metadata": {},
   "outputs": [],
   "source": [
    "pp.imshow(monalisa,cmap='gray')"
   ]
  },
  {
   "attachments": {},
   "cell_type": "markdown",
   "metadata": {},
   "source": [
    "* better quality with matshow than imshow \n",
    "* for details visit https://stackoverflow.com/questions/41910060/animation-quality-is-better-with-matshow-than-with-imshow-how-to-improve-it#:~:text=Matplotlib%20matshow%20is%20a%20wrapper%20for%20imshow%2C%20in,interpolation%3DNone.%20Note%20that%20this%20is%20different%20from%20interpolation%3D%22none%22."
   ]
  },
  {
   "cell_type": "code",
   "execution_count": null,
   "metadata": {},
   "outputs": [],
   "source": [
    "pp.matshow(monalisa) "
   ]
  },
  {
   "attachments": {},
   "cell_type": "markdown",
   "metadata": {},
   "source": [
    "* CREATING NUMPY ARRAY  "
   ]
  },
  {
   "cell_type": "code",
   "execution_count": null,
   "metadata": {},
   "outputs": [],
   "source": [
    "arr=np.array([[232.32,7773,643453],[8875,45,113],[45,98,76]])\n",
    "pp.imshow(arr)"
   ]
  },
  {
   "cell_type": "code",
   "execution_count": null,
   "metadata": {},
   "outputs": [],
   "source": [
    "np.empty((8,8)) # create array with random value"
   ]
  },
  {
   "cell_type": "code",
   "execution_count": null,
   "metadata": {},
   "outputs": [],
   "source": [
    "np.zeros((2,2)),np.zeros_like(monalisa) # create array of same size as monalisa"
   ]
  },
  {
   "cell_type": "code",
   "execution_count": null,
   "metadata": {},
   "outputs": [],
   "source": [
    "np.linspace(0,1,16) # create array b/w 0-1 contain 16 element"
   ]
  },
  {
   "cell_type": "code",
   "execution_count": null,
   "metadata": {},
   "outputs": [],
   "source": [
    "np.arange(0,5,0.5) # create array b/w 0-1.5 with equal spacing 0.5"
   ]
  },
  {
   "cell_type": "code",
   "execution_count": null,
   "metadata": {},
   "outputs": [],
   "source": [
    "rand_2D=np.random.random((2,2)) # no uniformly distributed b/w 0-1 of given size\n",
    "np.save('random.npy',rand_2D)\n",
    "np.load('random.npy')"
   ]
  },
  {
   "cell_type": "code",
   "execution_count": null,
   "metadata": {},
   "outputs": [],
   "source": [
    "a=np.random.randint(1,100) #return random no in give range \n",
    "print(a)\n",
    "np.random.randint(1,100,size=(2,2))"
   ]
  },
  {
   "cell_type": "code",
   "execution_count": null,
   "metadata": {},
   "outputs": [],
   "source": [
    "np.random.randn() # return random no"
   ]
  },
  {
   "attachments": {},
   "cell_type": "markdown",
   "metadata": {},
   "source": [
    "* Indexing\n"
   ]
  },
  {
   "cell_type": "code",
   "execution_count": null,
   "metadata": {},
   "outputs": [],
   "source": [
    "block=np.array([[1,2,3],[3,4,5]])\n",
    "block[1,1]"
   ]
  },
  {
   "cell_type": "code",
   "execution_count": null,
   "metadata": {},
   "outputs": [],
   "source": [
    "monalisa_O=np.load('monalisa_O.npy') # three dimension\n",
    "pp.imshow(monalisa_O)\n",
    "monalisa_O.shape"
   ]
  },
  {
   "cell_type": "code",
   "execution_count": null,
   "metadata": {},
   "outputs": [],
   "source": [
    "pp.matshow(monalisa_O[200:600,100:300:])"
   ]
  },
  {
   "cell_type": "code",
   "execution_count": null,
   "metadata": {},
   "outputs": [],
   "source": [
    "monalisa_O[100,200,1]\n",
    "monalisa_O[5:7,10:15]\n"
   ]
  },
  {
   "attachments": {},
   "cell_type": "markdown",
   "metadata": {},
   "source": [
    "* shape manipulation"
   ]
  },
  {
   "cell_type": "code",
   "execution_count": null,
   "metadata": {},
   "outputs": [],
   "source": [
    "score=np.array([[45,65,98,5,4,3],[54,76,88,100,65,5]])\n",
    "score.ravel() # -----> flatten the array"
   ]
  },
  {
   "cell_type": "code",
   "execution_count": null,
   "metadata": {},
   "outputs": [],
   "source": [
    "score.reshape(3,4) # ----> it create another array"
   ]
  },
  {
   "cell_type": "code",
   "execution_count": null,
   "metadata": {},
   "outputs": [],
   "source": [
    "score.resize(3,4)#----> make changes to present array\n",
    "score"
   ]
  },
  {
   "cell_type": "code",
   "execution_count": null,
   "metadata": {},
   "outputs": [],
   "source": [
    "score2=np.array([2,3,4,4,4,4,4,3,4,5])#-----> split into equal array\n",
    "a,b=np.hsplit(score2,2)"
   ]
  },
  {
   "cell_type": "code",
   "execution_count": null,
   "metadata": {},
   "outputs": [],
   "source": [
    "np.hstack((a,b))"
   ]
  },
  {
   "attachments": {},
   "cell_type": "markdown",
   "metadata": {},
   "source": [
    "* Linear Algebra & universal function"
   ]
  },
  {
   "cell_type": "code",
   "execution_count": null,
   "metadata": {},
   "outputs": [],
   "source": [
    "salary=np.array([[2,67],[3,6]])\n",
    "salary.transpose()\n"
   ]
  },
  {
   "cell_type": "code",
   "execution_count": null,
   "metadata": {},
   "outputs": [],
   "source": [
    "np.linalg.inv(salary)# ---> apply only on squre mat meaning same row and col"
   ]
  },
  {
   "cell_type": "code",
   "execution_count": null,
   "metadata": {},
   "outputs": [],
   "source": [
    "salary.trace()# take sum of digonal"
   ]
  },
  {
   "cell_type": "code",
   "execution_count": null,
   "metadata": {},
   "outputs": [],
   "source": [
    "np.sin(salary),np.cos(salary),np.max(salary),np.mean(salary),"
   ]
  },
  {
   "cell_type": "code",
   "execution_count": null,
   "metadata": {},
   "outputs": [],
   "source": [
    "#load gdp value\n",
    "gdp_value=open('gdp_value.txt')\n",
    "gdp_value_list=gdp_value.read().split(',')\n",
    "gdp_value_str_list=np.array(gdp_value_list)\n",
    "gdp_value_int_list=gdp_value_str_list.astype('float')\n"
   ]
  },
  {
   "cell_type": "code",
   "execution_count": null,
   "metadata": {},
   "outputs": [],
   "source": [
    "#load country name\n",
    "country=open('country_name.txt')\n",
    "country_list=country.read().split(',')\n",
    "country_list=np.array(country_list)"
   ]
  },
  {
   "cell_type": "code",
   "execution_count": null,
   "metadata": {},
   "outputs": [],
   "source": [
    "max_gdp=gdp_value_int_list.argmax()\n",
    "country_with_max_gdp=country_list[max_gdp]\n",
    "country_with_max_gdp"
   ]
  },
  {
   "attachments": {},
   "cell_type": "markdown",
   "metadata": {},
   "source": [
    "* Expolre Ufunction"
   ]
  },
  {
   "cell_type": "code",
   "execution_count": null,
   "metadata": {},
   "outputs": [],
   "source": [
    "x=np.linspace(0,5*math.pi,64)\n",
    "sinx=np.sin(x)\n",
    "cosx=np.cos(x)\n",
    "pp.figure(figsize=(8,3))\n",
    "pp.plot(x,sinx,label='sinx')\n",
    "pp.plot(x,cosx,label='cosx')\n",
    "pp.plot(x,np.log(x+1),label='log')\n",
    "pp.legend()"
   ]
  },
  {
   "attachments": {},
   "cell_type": "markdown",
   "metadata": {},
   "source": [
    "* broadcasting and grading to monalisa\n"
   ]
  },
  {
   "cell_type": "code",
   "execution_count": null,
   "metadata": {},
   "outputs": [],
   "source": [
    "monalisa.shape\n",
    "x_grad=np.linspace(0,1,134)\n",
    "monalisa_x_grad=monalisa*x_grad #---> broad casting\n",
    "pp.subplot(1,2,1);pp.imshow(monalisa_x_grad,cmap='gray')\n",
    "pp.subplot(1,2,2);pp.imshow(monalisa,cmap='gray')"
   ]
  },
  {
   "cell_type": "code",
   "execution_count": null,
   "metadata": {},
   "outputs": [],
   "source": [
    "y_grad=np.linspace(0,1,200)\n",
    "#monalisa_y_grad=monalisa*y_grad ---> it give erorr we have add one col\n",
    "y_grad=y_grad[:,np.newaxis]\n",
    "monalisa_y_grad=monalisa*y_grad\n",
    "pp.subplot(1,2,1);pp.imshow(monalisa_y_grad,cmap='gray')\n",
    "pp.subplot(1,2,2);pp.imshow(monalisa,cmap='gray')"
   ]
  },
  {
   "cell_type": "code",
   "execution_count": null,
   "metadata": {},
   "outputs": [],
   "source": [
    "y=np.array([[2,3,4,5,6,7],[2,3,4,6,7,8]]) # it add dimension at second position of array\n",
    "y[:,np.newaxis]"
   ]
  },
  {
   "cell_type": "code",
   "execution_count": null,
   "metadata": {},
   "outputs": [],
   "source": [
    "y[np.newaxis,:] # it simply add one dimension"
   ]
  },
  {
   "attachments": {},
   "cell_type": "markdown",
   "metadata": {},
   "source": [
    "* store data with col name\n",
    "* data time"
   ]
  },
  {
   "cell_type": "code",
   "execution_count": null,
   "metadata": {},
   "outputs": [],
   "source": [
    "discography=np.load('discography.npy')\n",
    "discography"
   ]
  },
  {
   "attachments": {},
   "cell_type": "markdown",
   "metadata": {},
   "source": [
    "* slicing"
   ]
  },
  {
   "cell_type": "code",
   "execution_count": null,
   "metadata": {},
   "outputs": [],
   "source": [
    "discography[0]"
   ]
  },
  {
   "cell_type": "code",
   "execution_count": null,
   "metadata": {},
   "outputs": [],
   "source": [
    "discography[0][0],discography['title']"
   ]
  },
  {
   "attachments": {},
   "cell_type": "markdown",
   "metadata": {},
   "source": [
    "* creating a new array with col name"
   ]
  },
  {
   "cell_type": "code",
   "execution_count": null,
   "metadata": {},
   "outputs": [],
   "source": [
    "new_discography=np.zeros(len(discography),dtype=[('title','U32'),('release','M8[s]')])\n",
    "new_discography['title']=discography['title']\n",
    "new_discography['release']=discography['release']\n",
    "new_discography"
   ]
  },
  {
   "attachments": {},
   "cell_type": "markdown",
   "metadata": {},
   "source": [
    "* Date and Time"
   ]
  },
  {
   "cell_type": "code",
   "execution_count": null,
   "metadata": {},
   "outputs": [],
   "source": [
    "np.datetime64('2015-02-03 12:00')<np.datetime64('2015-02-05 01:00')"
   ]
  },
  {
   "cell_type": "code",
   "execution_count": null,
   "metadata": {},
   "outputs": [],
   "source": [
    "np.arange(np.datetime64('2015-02-03'),np.datetime64('2015-02-28'),2) \n"
   ]
  }
 ],
 "metadata": {
  "kernelspec": {
   "display_name": "Python 3",
   "language": "python",
   "name": "python3"
  },
  "language_info": {
   "codemirror_mode": {
    "name": "ipython",
    "version": 3
   },
   "file_extension": ".py",
   "mimetype": "text/x-python",
   "name": "python",
   "nbconvert_exporter": "python",
   "pygments_lexer": "ipython3",
   "version": "3.10.4"
  },
  "orig_nbformat": 4,
  "vscode": {
   "interpreter": {
    "hash": "6c869eb55f62ed121de4d41050b8da791af46be3f334f9749c0b578bf282648b"
   }
  }
 },
 "nbformat": 4,
 "nbformat_minor": 2
}
